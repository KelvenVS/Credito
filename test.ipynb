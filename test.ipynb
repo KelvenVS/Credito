{
 "cells": [
  {
   "cell_type": "code",
   "execution_count": null,
   "id": "91b349c7",
   "metadata": {},
   "outputs": [
    {
     "name": "stdout",
     "output_type": "stream",
     "text": [
      "(1526659, 5)\n",
      "shape: (5, 5)\n",
      "┌─────────┬───────────────┬────────┬──────────┬────────┐\n",
      "│ case_id ┆ date_decision ┆ MONTH  ┆ WEEK_NUM ┆ target │\n",
      "│ ---     ┆ ---           ┆ ---    ┆ ---      ┆ ---    │\n",
      "│ i64     ┆ str           ┆ i64    ┆ i64      ┆ i64    │\n",
      "╞═════════╪═══════════════╪════════╪══════════╪════════╡\n",
      "│ 0       ┆ 2019-01-03    ┆ 201901 ┆ 0        ┆ 0      │\n",
      "│ 1       ┆ 2019-01-03    ┆ 201901 ┆ 0        ┆ 0      │\n",
      "│ 2       ┆ 2019-01-04    ┆ 201901 ┆ 0        ┆ 0      │\n",
      "│ 3       ┆ 2019-01-03    ┆ 201901 ┆ 0        ┆ 0      │\n",
      "│ 4       ┆ 2019-01-04    ┆ 201901 ┆ 0        ┆ 1      │\n",
      "└─────────┴───────────────┴────────┴──────────┴────────┘\n",
      "shape: (2, 1)\n",
      "┌─────────────┐\n",
      "│ target      │\n",
      "│ ---         │\n",
      "│ struct[2]   │\n",
      "╞═════════════╡\n",
      "│ {0,1478665} │\n",
      "│ {1,47994}   │\n",
      "└─────────────┘\n"
     ]
    }
   ],
   "source": [
    "import polars as pl, pathlib as p\n",
    "\n",
    "# Ajuste o caminho se necessário\n",
    "train_base_path = p.Path(\"data/parquet_files/train/train_base.parquet\")\n",
    "\n",
    "df = pl.read_parquet(train_base_path)\n",
    "\n",
    "print(df.shape)      # linhas, colunas\n",
    "print(df.head())     # primeiras 5 linhas\n",
    "print(df.select(pl.col(\"target\").value_counts()))  # distribuição do target"
   ]
  }
 ],
 "metadata": {
  "kernelspec": {
   "display_name": "venv",
   "language": "python",
   "name": "python3"
  },
  "language_info": {
   "codemirror_mode": {
    "name": "ipython",
    "version": 3
   },
   "file_extension": ".py",
   "mimetype": "text/x-python",
   "name": "python",
   "nbconvert_exporter": "python",
   "pygments_lexer": "ipython3",
   "version": "3.11.4"
  }
 },
 "nbformat": 4,
 "nbformat_minor": 5
}
