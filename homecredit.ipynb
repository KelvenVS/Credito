{
 "cells": [
  {
   "cell_type": "code",
   "execution_count": null,
   "id": "1a7fd339",
   "metadata": {},
   "outputs": [],
   "source": [
    "import re\n",
    "import polars as pl\n",
    "import pathlib as p\n",
    "from collections import Counter\n",
    "from pathlib import Path\n",
    "import lightgbm as lgb\n",
    "from sklearn.metrics import roc_auc_score"
   ]
  },
  {
   "cell_type": "code",
   "execution_count": 2,
   "id": "63bca176",
   "metadata": {},
   "outputs": [],
   "source": [
    "# Ajuste o caminho se necessário\n",
    "train_base_path = p.Path(\"data/parquet_files/train/train_base.parquet\")\n",
    "\n",
    "df = pl.read_parquet(train_base_path)"
   ]
  },
  {
   "cell_type": "code",
   "execution_count": 3,
   "id": "b1b8ea9a",
   "metadata": {},
   "outputs": [
    {
     "name": "stdout",
     "output_type": "stream",
     "text": [
      "Tamanho da tabela: (1526659, 5)\n",
      "case_id                                  → Int64\n",
      "date_decision                            → String\n",
      "MONTH                                    → Int64\n",
      "WEEK_NUM                                 → Int64\n",
      "target                                   → Int64\n"
     ]
    }
   ],
   "source": [
    "# Ver o número de linhas e colunas\n",
    "print(\"Tamanho da tabela:\", df.shape)\n",
    "\n",
    "# Ver os nomes das primeiras 20 colunas e seus tipos\n",
    "for nome, tipo in zip(df.columns[:20], df.dtypes[:20]):\n",
    "    print(f\"{nome:40} → {tipo}\")"
   ]
  },
  {
   "cell_type": "code",
   "execution_count": 4,
   "id": "3a6e0123",
   "metadata": {},
   "outputs": [
    {
     "name": "stdout",
     "output_type": "stream",
     "text": [
      "shape: (5,)\n",
      "Series: 'date_decision' [date]\n",
      "[\n",
      "\t2019-01-03\n",
      "\t2019-01-03\n",
      "\t2019-01-04\n",
      "\t2019-01-03\n",
      "\t2019-01-04\n",
      "]\n",
      "Tipo da coluna agora: Date\n"
     ]
    }
   ],
   "source": [
    "#Converter date_decision para data\n",
    "df = df.with_columns(\n",
    "    pl.col(\"date_decision\")\n",
    "      .str.strptime(pl.Date, \"%Y-%m-%d\", strict=False)   # converte texto → data\n",
    "      .alias(\"date_decision\")\n",
    ")\n",
    "\n",
    "# Conferir rapidamente\n",
    "print(df[\"date_decision\"].head(5))\n",
    "print(\"Tipo da coluna agora:\", df[\"date_decision\"].dtype)"
   ]
  },
  {
   "cell_type": "code",
   "execution_count": 5,
   "id": "cd8a7099",
   "metadata": {},
   "outputs": [
    {
     "name": "stdout",
     "output_type": "stream",
     "text": [
      "shape: (2, 1)\n",
      "┌─────────────┐\n",
      "│ target      │\n",
      "│ ---         │\n",
      "│ struct[2]   │\n",
      "╞═════════════╡\n",
      "│ {1,47994}   │\n",
      "│ {0,1478665} │\n",
      "└─────────────┘\n"
     ]
    }
   ],
   "source": [
    "#Ver quantos calotes existem\n",
    "dist_target = df.select(pl.col(\"target\").value_counts())\n",
    "print(dist_target)\n",
    "#O que observar: quantos 0 (pagou) e quantos 1 (inadimplente).\n",
    "#Isso nos dirá se temos poucas linhas da classe “calote” (classe 1)."
   ]
  },
  {
   "cell_type": "code",
   "execution_count": 6,
   "id": "48c29698",
   "metadata": {},
   "outputs": [
    {
     "name": "stdout",
     "output_type": "stream",
     "text": [
      "shape: (1, 5)\n",
      "┌─────────┬───────────────┬───────┬──────────┬────────┐\n",
      "│ case_id ┆ date_decision ┆ MONTH ┆ WEEK_NUM ┆ target │\n",
      "│ ---     ┆ ---           ┆ ---   ┆ ---      ┆ ---    │\n",
      "│ u32     ┆ u32           ┆ u32   ┆ u32      ┆ u32    │\n",
      "╞═════════╪═══════════════╪═══════╪══════════╪════════╡\n",
      "│ 0       ┆ 0             ┆ 0     ┆ 0        ┆ 0      │\n",
      "└─────────┴───────────────┴───────┴──────────┴────────┘\n"
     ]
    }
   ],
   "source": [
    "# Conta quantos valores vazios existem em cada coluna\n",
    "faltantes = df.null_count()\n",
    "print(faltantes)"
   ]
  },
  {
   "cell_type": "code",
   "execution_count": 7,
   "id": "6343be99",
   "metadata": {},
   "outputs": [
    {
     "name": "stdout",
     "output_type": "stream",
     "text": [
      "Depósitos – shape: (145086, 5)\n",
      "shape: (5, 5)\n",
      "┌─────────┬─────────────┬──────────────────────┬────────────┬──────────────────┐\n",
      "│ case_id ┆ amount_416A ┆ contractenddate_991D ┆ num_group1 ┆ openingdate_313D │\n",
      "│ ---     ┆ ---         ┆ ---                  ┆ ---        ┆ ---              │\n",
      "│ i64     ┆ f64         ┆ str                  ┆ i64        ┆ str              │\n",
      "╞═════════╪═════════════╪══════════════════════╪════════════╪══════════════════╡\n",
      "│ 225     ┆ 0.0         ┆ null                 ┆ 0          ┆ 2016-08-16       │\n",
      "│ 331     ┆ 260.374     ┆ 2018-03-18           ┆ 0          ┆ 2015-03-19       │\n",
      "│ 358     ┆ 0.0         ┆ null                 ┆ 0          ┆ 2014-09-02       │\n",
      "│ 390     ┆ 203.602     ┆ 2017-09-30           ┆ 1          ┆ 2015-10-01       │\n",
      "│ 390     ┆ 223.68001   ┆ null                 ┆ 2          ┆ 2016-06-08       │\n",
      "└─────────┴─────────────┴──────────────────────┴────────────┴──────────────────┘\n"
     ]
    }
   ],
   "source": [
    "# 1) Abrir o arquivo de depósitos\n",
    "deposit_path = Path(\"data/parquet_files/train/train_deposit_1.parquet\")\n",
    "dep = pl.read_parquet(deposit_path)\n",
    "\n",
    "# 2) Espiar tamanho e primeiros dados\n",
    "print(\"Depósitos – shape:\", dep.shape)\n",
    "print(dep.head(5))"
   ]
  },
  {
   "cell_type": "code",
   "execution_count": 8,
   "id": "cea8a4cb",
   "metadata": {},
   "outputs": [
    {
     "name": "stdout",
     "output_type": "stream",
     "text": [
      "shape: (5, 2)\n",
      "┌──────────────────────┬───────────┐\n",
      "│ coluna               ┆ qtd_nulos │\n",
      "│ ---                  ┆ ---       │\n",
      "│ str                  ┆ u32       │\n",
      "╞══════════════════════╪═══════════╡\n",
      "│ contractenddate_991D ┆ 79682     │\n",
      "│ case_id              ┆ 0         │\n",
      "│ amount_416A          ┆ 0         │\n",
      "│ num_group1           ┆ 0         │\n",
      "│ openingdate_313D     ┆ 0         │\n",
      "└──────────────────────┴───────────┘\n"
     ]
    },
    {
     "name": "stderr",
     "output_type": "stream",
     "text": [
      "C:\\Users\\kelve\\AppData\\Local\\Temp\\ipykernel_6184\\455241800.py:4: DeprecationWarning: `DataFrame.melt` is deprecated; use `DataFrame.unpivot` instead, with `index` instead of `id_vars` and `on` instead of `value_vars`\n",
      "  nulls = nulls.melt(variable_name=\"coluna\", value_name=\"qtd_nulos\")\n"
     ]
    }
   ],
   "source": [
    "# 3) Contar nulos por coluna\n",
    "nulls = dep.null_count()\n",
    "# Transforma em formato longo\n",
    "nulls = nulls.melt(variable_name=\"coluna\", value_name=\"qtd_nulos\")\n",
    "\n",
    "# Ordena pelas colunas com mais nulos\n",
    "nulls = nulls.sort(\"qtd_nulos\", descending=True)\n",
    "\n",
    "# Mostra as 10 com mais nulos\n",
    "print(nulls.head(10))\n"
   ]
  },
  {
   "cell_type": "code",
   "execution_count": 9,
   "id": "cb6acd8c",
   "metadata": {},
   "outputs": [],
   "source": [
    "# 2) Converter datas de texto/inteiro para Date\n",
    "date_cols = [\"openingdate_313D\", \"contractenddate_991D\"]\n",
    "for col in date_cols:\n",
    "    dep = dep.with_columns(\n",
    "        pl.col(col)\n",
    "          .str.strptime(pl.Date, \"%Y-%m-%d\", strict=False)  # ajuste formato se precisar\n",
    "          .alias(col)\n",
    "    )"
   ]
  },
  {
   "cell_type": "code",
   "execution_count": 10,
   "id": "10aabcd1",
   "metadata": {},
   "outputs": [],
   "source": [
    "# 3) Tratar nulos: flag + preenchimento provisório\n",
    "dep = dep.with_columns([\n",
    "    pl.col(\"contractenddate_991D\").is_null().cast(pl.Int8).alias(\"dep_active_flag\"),\n",
    "    pl.when(pl.col(\"contractenddate_991D\").is_null())\n",
    "      .then(pl.col(\"openingdate_313D\"))   # assume ainda ativo – usa data de abertura\n",
    "      .otherwise(pl.col(\"contractenddate_991D\"))\n",
    "      .alias(\"contractenddate_991D\")\n",
    "])"
   ]
  },
  {
   "cell_type": "code",
   "execution_count": 11,
   "id": "6afe7d87",
   "metadata": {},
   "outputs": [],
   "source": [
    "# 4) Feature: duração do contrato (dias)\n",
    "dep = dep.with_columns(\n",
    "    (pl.col(\"contractenddate_991D\") - pl.col(\"openingdate_313D\"))\n",
    "      .dt.total_days()\n",
    "      .alias(\"dep_contract_duration\")\n",
    ")"
   ]
  },
  {
   "cell_type": "code",
   "execution_count": 12,
   "id": "1da22ad9",
   "metadata": {},
   "outputs": [
    {
     "name": "stderr",
     "output_type": "stream",
     "text": [
      "C:\\Users\\kelve\\AppData\\Local\\Temp\\ipykernel_6184\\2259041201.py:5: DeprecationWarning: `pl.count()` is deprecated. Please use `pl.len()` instead.\n",
      "(Deprecated in version 0.20.5)\n",
      "  pl.count().alias(\"dep_ops_cnt\"),\n"
     ]
    }
   ],
   "source": [
    "# 5) Agregação por cliente\n",
    "dep_agg = dep.group_by(\"case_id\").agg([\n",
    "    pl.col(\"amount_416A\").mean().alias(\"dep_amt_mean\"),\n",
    "    pl.col(\"amount_416A\").max().alias(\"dep_amt_max\"),\n",
    "    pl.count().alias(\"dep_ops_cnt\"),\n",
    "    pl.col(\"dep_active_flag\").max().alias(\"dep_has_active\"),\n",
    "    pl.col(\"dep_contract_duration\").mean().alias(\"dep_dur_mean\")\n",
    "])\n"
   ]
  },
  {
   "cell_type": "code",
   "execution_count": 13,
   "id": "680a1e5d",
   "metadata": {},
   "outputs": [],
   "source": [
    "df = df.join(dep_agg, on=\"case_id\", how=\"left\")"
   ]
  },
  {
   "cell_type": "code",
   "execution_count": 14,
   "id": "1207e697",
   "metadata": {},
   "outputs": [
    {
     "name": "stdout",
     "output_type": "stream",
     "text": [
      "Shape final da base principal: (1526659, 10)\n",
      "shape: (30, 2)\n",
      "┌──────────────┬────────────────┐\n",
      "│ dep_amt_mean ┆ dep_has_active │\n",
      "│ ---          ┆ ---            │\n",
      "│ f64          ┆ i8             │\n",
      "╞══════════════╪════════════════╡\n",
      "│ null         ┆ null           │\n",
      "│ null         ┆ null           │\n",
      "│ null         ┆ null           │\n",
      "│ null         ┆ null           │\n",
      "│ null         ┆ null           │\n",
      "│ …            ┆ …              │\n",
      "│ null         ┆ null           │\n",
      "│ null         ┆ null           │\n",
      "│ null         ┆ null           │\n",
      "│ null         ┆ null           │\n",
      "│ null         ┆ null           │\n",
      "└──────────────┴────────────────┘\n"
     ]
    }
   ],
   "source": [
    "print(\"Shape final da base principal:\", df.shape)\n",
    "print(df.select([\"dep_amt_mean\", \"dep_has_active\"]).head(30))"
   ]
  },
  {
   "cell_type": "code",
   "execution_count": 15,
   "id": "dadc4132",
   "metadata": {},
   "outputs": [],
   "source": [
    "# 1. Deixar só colunas numéricas e remover o target\n",
    "num_cols = [\n",
    "    col for col, dtype in zip(df.columns, df.dtypes)\n",
    "    if dtype in (pl.Int8, pl.Int16, pl.Int32, pl.Int64, pl.UInt8, pl.UInt16,\n",
    "                 pl.UInt32, pl.UInt64, pl.Float32, pl.Float64)\n",
    "    and col != \"target\"\n",
    "]\n",
    "\n",
    "# 2. Converter df Polars -> pandas (LightGBM aceita pandas DataFrame)\n",
    "X = df.select(num_cols).to_pandas()\n",
    "y = df[\"target\"].to_pandas()\n"
   ]
  },
  {
   "cell_type": "code",
   "execution_count": 16,
   "id": "77b556d1",
   "metadata": {},
   "outputs": [
    {
     "name": "stdout",
     "output_type": "stream",
     "text": [
      "Treino: (1526659, 8) Validação: (0, 8)\n"
     ]
    }
   ],
   "source": [
    "week = df[\"WEEK_NUM\"].to_pandas()\n",
    "\n",
    "train_mask = week <= 430\n",
    "valid_mask = week > 430\n",
    "\n",
    "X_train, X_valid = X[train_mask], X[valid_mask]\n",
    "y_train, y_valid = y[train_mask], y[valid_mask]\n",
    "\n",
    "print(\"Treino:\", X_train.shape, \"Validação:\", X_valid.shape)"
   ]
  },
  {
   "cell_type": "code",
   "execution_count": 24,
   "id": "cf26e16a",
   "metadata": {},
   "outputs": [
    {
     "name": "stdout",
     "output_type": "stream",
     "text": [
      "Menor WEEK_NUM : 0\n",
      "Maior WEEK_NUM : 91\n"
     ]
    }
   ],
   "source": [
    "print(\"Menor WEEK_NUM :\", df['WEEK_NUM'].min())\n",
    "print(\"Maior WEEK_NUM :\", df['WEEK_NUM'].max())"
   ]
  },
  {
   "cell_type": "code",
   "execution_count": 25,
   "id": "5a19afc9",
   "metadata": {},
   "outputs": [
    {
     "name": "stdout",
     "output_type": "stream",
     "text": [
      "Treino: (1221327, 8) Validação: (305332, 8)\n"
     ]
    }
   ],
   "source": [
    "from sklearn.model_selection import train_test_split\n",
    "\n",
    "# Convertendo df Polars → pandas\n",
    "X = df.select(num_cols).to_pandas()\n",
    "y = df[\"target\"].to_pandas()\n",
    "\n",
    "# Separando 80% treino / 20% validação de forma estratificada (mantém a proporção da classe 1)\n",
    "X_train, X_valid, y_train, y_valid = train_test_split(\n",
    "    X, y, test_size=0.2, stratify=y, random_state=42\n",
    ")\n",
    "\n",
    "print(\"Treino:\", X_train.shape, \"Validação:\", X_valid.shape)\n"
   ]
  },
  {
   "cell_type": "code",
   "execution_count": 27,
   "id": "a114e76a",
   "metadata": {},
   "outputs": [
    {
     "name": "stdout",
     "output_type": "stream",
     "text": [
      "Training until validation scores don't improve for 50 rounds\n",
      "Did not meet early stopping. Best iteration is:\n",
      "[453]\tvalid_0's auc: 0.578928\n",
      "\n",
      "AUC  : 0.5789\n",
      "Gini : 0.1579\n"
     ]
    }
   ],
   "source": [
    "# 1. Conjuntos LightGBM\n",
    "train_set = lgb.Dataset(X_train, y_train)\n",
    "valid_set = lgb.Dataset(X_valid, y_valid, reference=train_set)\n",
    "\n",
    "# 2. Parâmetros básicos\n",
    "params = dict(\n",
    "    objective=\"binary\",\n",
    "    learning_rate=0.05,\n",
    "    num_leaves=64,\n",
    "    feature_fraction=0.8,\n",
    "    bagging_fraction=0.8,\n",
    "    bagging_freq=1,\n",
    "    metric=\"auc\",\n",
    "    verbose=-1,\n",
    "    # lidar com classe 1 rara → aplicar peso maior\n",
    "    is_unbalance=True           # opcional, mas ajuda quando target=1 é escasso\n",
    ")\n",
    "\n",
    "# 3. Treinamento com early stopping\n",
    "model = lgb.train(\n",
    "    params,\n",
    "    train_set,\n",
    "    valid_sets=[valid_set],\n",
    "    num_boost_round=500,\n",
    "    callbacks=[lgb.early_stopping(stopping_rounds=50)]\n",
    ")\n",
    "\n",
    "# 4. Avaliação rápida\n",
    "pred_valid = model.predict(X_valid, num_iteration=model.best_iteration)\n",
    "auc  = roc_auc_score(y_valid, pred_valid)\n",
    "gini = 2 * auc - 1\n",
    "print(f\"\\nAUC  : {auc:.4f}\")\n",
    "print(f\"Gini : {gini:.4f}\")\n"
   ]
  }
 ],
 "metadata": {
  "kernelspec": {
   "display_name": "venv",
   "language": "python",
   "name": "python3"
  },
  "language_info": {
   "codemirror_mode": {
    "name": "ipython",
    "version": 3
   },
   "file_extension": ".py",
   "mimetype": "text/x-python",
   "name": "python",
   "nbconvert_exporter": "python",
   "pygments_lexer": "ipython3",
   "version": "3.11.4"
  }
 },
 "nbformat": 4,
 "nbformat_minor": 5
}
